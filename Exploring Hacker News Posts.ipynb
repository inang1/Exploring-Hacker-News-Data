{
 "cells": [
  {
   "cell_type": "markdown",
   "metadata": {},
   "source": [
    "# Exploring Hacker News Posts\n",
    "\n",
    "A quick dive into the posts that perform the best on Hacker News"
   ]
  },
  {
   "cell_type": "code",
   "execution_count": 1,
   "metadata": {
    "scrolled": true
   },
   "outputs": [
    {
     "name": "stdout",
     "output_type": "stream",
     "text": [
      "Length of dataset: 293119\n",
      "['id', 'title', 'url', 'num_points', 'num_comments', 'author', 'created_at']\n",
      "[['12579008', 'You have two days to comment if you want stem cells to be classified as your own', 'http://www.regulations.gov/document?D=FDA-2015-D-3719-0018', '1', '0', 'altstar', '9/26/2016 3:26'], ['12579005', 'SQLAR  the SQLite Archiver', 'https://www.sqlite.org/sqlar/doc/trunk/README.md', '1', '0', 'blacksqr', '9/26/2016 3:24'], ['12578997', 'What if we just printed a flatscreen television on the side of our boxes?', 'https://medium.com/vanmoof/our-secrets-out-f21c1f03fdc8#.ietxmez43', '1', '0', 'pavel_lishin', '9/26/2016 3:19'], ['12578989', 'algorithmic music', 'http://cacm.acm.org/magazines/2011/7/109891-algorithmic-composition/fulltext', '1', '0', 'poindontcare', '9/26/2016 3:16'], ['12578979', 'How the Data Vault Enables the Next-Gen Data Warehouse and Data Lake', 'https://www.talend.com/blog/2016/05/12/talend-and-Â\\x93the-data-vaultÂ\\x94', '1', '0', 'markgainor1', '9/26/2016 3:14']]\n"
     ]
    }
   ],
   "source": [
    "from csv import reader\n",
    "\n",
    "dataset = open('Hacker_News.csv',  encoding=\"utf8\")\n",
    "read = reader(dataset)\n",
    "hn = list(read)\n",
    "headers = hn[0]\n",
    "hn = hn[1:]\n",
    "print('Length of dataset: ' + str(len(hn)))\n",
    "\n",
    "print(headers)\n",
    "print(hn[:5])"
   ]
  },
  {
   "cell_type": "markdown",
   "metadata": {},
   "source": [
    "Now we will separate each type of post into its own data set to compare them."
   ]
  },
  {
   "cell_type": "code",
   "execution_count": 2,
   "metadata": {},
   "outputs": [
    {
     "name": "stdout",
     "output_type": "stream",
     "text": [
      "There are 9139 in the ask hn list\n",
      "There are 10158 in the show hn list\n",
      "There are 273822 in the other list\n",
      "Total number of posts: 293119\n"
     ]
    }
   ],
   "source": [
    "ask_posts = []\n",
    "show_posts = []\n",
    "other_posts = []\n",
    "\n",
    "for row in hn:\n",
    "    title = row[1]\n",
    "    title = title.lower()\n",
    "    if title.startswith('ask hn'):\n",
    "        ask_posts.append(row)\n",
    "    elif title.startswith('show hn'):\n",
    "        show_posts.append(row)\n",
    "    else:\n",
    "        other_posts.append(row)\n",
    "        \n",
    "print('There are {} in the ask hn list'.format(len(ask_posts)))\n",
    "print('There are {} in the show hn list'.format(len(show_posts)))\n",
    "print('There are {} in the other list'.format(len(other_posts)))\n",
    "print('Total number of posts: {}'.format((len(ask_posts) + len(show_posts) + len(other_posts))))"
   ]
  },
  {
   "cell_type": "markdown",
   "metadata": {},
   "source": [
    "Now we will analyze the number of comments left on ask posts and compare it to the number of comments left on show posts."
   ]
  },
  {
   "cell_type": "code",
   "execution_count": 3,
   "metadata": {},
   "outputs": [
    {
     "name": "stdout",
     "output_type": "stream",
     "text": [
      "Average number of Ask post comments: 10.393478498741656\n",
      "Total number of Ask post comments: 94986\n"
     ]
    }
   ],
   "source": [
    "total_ask_comments = 0 \n",
    "\n",
    "for row in ask_posts:\n",
    "    num_comments = int(row[4])\n",
    "    total_ask_comments += num_comments\n",
    "    \n",
    "avg_ask_comments = total_ask_comments / len(ask_posts)\n",
    "print('Average number of Ask post comments: ' + str(avg_ask_comments))\n",
    "print('Total number of Ask post comments: ' + str(total_ask_comments))"
   ]
  },
  {
   "cell_type": "code",
   "execution_count": 4,
   "metadata": {},
   "outputs": [
    {
     "name": "stdout",
     "output_type": "stream",
     "text": [
      "Average number of Show post comments: 4.886099625910612\n",
      "Total number of Show post comments: 49633\n"
     ]
    }
   ],
   "source": [
    "total_show_comments = 0 \n",
    "\n",
    "for row in show_posts:\n",
    "    num_comments = int(row[4])\n",
    "    total_show_comments += num_comments\n",
    "    \n",
    "avg_show_comments = total_show_comments / len(show_posts)\n",
    "print('Average number of Show post comments: ' + str(avg_show_comments))\n",
    "print('Total number of Show post comments: ' + str(total_show_comments))"
   ]
  },
  {
   "cell_type": "markdown",
   "metadata": {},
   "source": [
    "Based off of the average number of comments for both Ask posts and Show posts, it looks as though show posts get fewer comments. On average, Ask posts will receieve more user interaction. \n",
    "\n",
    "Since ask posts receive more comments than show posts on average, we will focus our remaining analysis on just ask posts.\n",
    "We will be determining if ask posts created at a certain time are more likely to attract comments by analyzing:\n",
    "- The number of ask posts created in each hour of the day along with the number of comments receieved\n",
    "- The average number of comments ask posts receive by the hour they are created"
   ]
  },
  {
   "cell_type": "code",
   "execution_count": 5,
   "metadata": {},
   "outputs": [
    {
     "name": "stdout",
     "output_type": "stream",
     "text": [
      "{2: 269, 1: 282, 22: 383, 21: 518, 19: 552, 17: 587, 15: 646, 14: 513, 13: 444, 11: 312, 10: 282, 9: 222, 7: 226, 3: 271, 23: 343, 20: 510, 16: 579, 8: 257, 0: 301, 18: 614, 12: 342, 4: 243, 6: 234, 5: 209}\n",
      "{2: 2996, 1: 2089, 22: 3372, 21: 4500, 19: 3954, 17: 5547, 15: 18525, 14: 4972, 13: 7245, 11: 2797, 10: 3013, 9: 1477, 7: 1585, 3: 2154, 23: 2297, 20: 4462, 16: 4466, 8: 2362, 0: 2277, 18: 4877, 12: 4234, 4: 2360, 6: 1587, 5: 1838}\n",
      "There are 24 lines in counts by hours\n",
      "There are 24 lines in comments by hours\n"
     ]
    }
   ],
   "source": [
    "import datetime as dt\n",
    "\n",
    "result_list = []\n",
    "for row in ask_posts:\n",
    "    result_list.append([row[6], int(row[4])])\n",
    "\n",
    "counts_by_hour = {}\n",
    "comments_by_hour = {}\n",
    "\n",
    "for row in result_list:\n",
    "    time = row[0]\n",
    "    comments = int(row[1])\n",
    "    time_dt = dt.datetime.strptime(time, \"%m/%d/%Y %H:%M\")\n",
    "    hour = time_dt.hour\n",
    "    \n",
    "    if hour not in counts_by_hour:\n",
    "        counts_by_hour[hour] = 1\n",
    "        comments_by_hour[hour] = comments\n",
    "    else: \n",
    "        counts_by_hour[hour] += 1\n",
    "        comments_by_hour[hour] += comments\n",
    "\n",
    "print(counts_by_hour)\n",
    "print(comments_by_hour)\n",
    "\n",
    "print(\"There are {} lines in counts by hours\".format(len(counts_by_hour)))\n",
    "print(\"There are {} lines in comments by hours\".format(len(comments_by_hour)))"
   ]
  },
  {
   "cell_type": "code",
   "execution_count": 6,
   "metadata": {},
   "outputs": [
    {
     "name": "stdout",
     "output_type": "stream",
     "text": [
      "There are 24 lines in average comments by hours\n",
      "[2, 11.137546468401487]\n",
      "[1, 7.407801418439717]\n",
      "[22, 8.804177545691905]\n",
      "[21, 8.687258687258687]\n",
      "[19, 7.163043478260869]\n",
      "[17, 9.449744463373083]\n",
      "[15, 28.676470588235293]\n",
      "[14, 9.692007797270955]\n",
      "[13, 16.31756756756757]\n",
      "[11, 8.96474358974359]\n",
      "[10, 10.684397163120567]\n",
      "[9, 6.653153153153153]\n",
      "[7, 7.013274336283186]\n",
      "[3, 7.948339483394834]\n",
      "[23, 6.696793002915452]\n",
      "[20, 8.749019607843136]\n",
      "[16, 7.713298791018998]\n",
      "[8, 9.190661478599221]\n",
      "[0, 7.5647840531561465]\n",
      "[18, 7.94299674267101]\n",
      "[12, 12.380116959064328]\n",
      "[4, 9.7119341563786]\n",
      "[6, 6.782051282051282]\n",
      "[5, 8.794258373205741]\n"
     ]
    }
   ],
   "source": [
    "avg_by_hour = []\n",
    "\n",
    "for hour in counts_by_hour:\n",
    "    avg_by_hour.append([hour, (comments_by_hour[hour]/counts_by_hour[hour])])\n",
    "\n",
    "\n",
    "print(\"There are {} lines in average comments by hours\".format(len(avg_by_hour)))\n",
    "for row in avg_by_hour:\n",
    "    print(row)"
   ]
  },
  {
   "cell_type": "markdown",
   "metadata": {},
   "source": [
    "This data is a bit hard to read, so we are going to sort it. "
   ]
  },
  {
   "cell_type": "code",
   "execution_count": 7,
   "metadata": {},
   "outputs": [
    {
     "name": "stdout",
     "output_type": "stream",
     "text": [
      "[28.676470588235293, 15]\n",
      "[16.31756756756757, 13]\n",
      "[12.380116959064328, 12]\n",
      "[11.137546468401487, 2]\n",
      "[10.684397163120567, 10]\n",
      "[9.7119341563786, 4]\n",
      "[9.692007797270955, 14]\n",
      "[9.449744463373083, 17]\n",
      "[9.190661478599221, 8]\n",
      "[8.96474358974359, 11]\n",
      "[8.804177545691905, 22]\n",
      "[8.794258373205741, 5]\n",
      "[8.749019607843136, 20]\n",
      "[8.687258687258687, 21]\n",
      "[7.948339483394834, 3]\n",
      "[7.94299674267101, 18]\n",
      "[7.713298791018998, 16]\n",
      "[7.5647840531561465, 0]\n",
      "[7.407801418439717, 1]\n",
      "[7.163043478260869, 19]\n",
      "[7.013274336283186, 7]\n",
      "[6.782051282051282, 6]\n",
      "[6.696793002915452, 23]\n",
      "[6.653153153153153, 9]\n"
     ]
    }
   ],
   "source": [
    "swap_avg_by_hour = []\n",
    "for row in avg_by_hour:\n",
    "    swap_avg_by_hour.append([row[1], row[0]])\n",
    "                             \n",
    "sorted_swap = sorted(swap_avg_by_hour, reverse=True)\n",
    "for row in sorted_swap:\n",
    "    print(row)"
   ]
  },
  {
   "cell_type": "code",
   "execution_count": 8,
   "metadata": {},
   "outputs": [
    {
     "name": "stdout",
     "output_type": "stream",
     "text": [
      "Top 5 Hours for Ask Posts Comments\n",
      "15: 28.68 average comments per post\n",
      "13: 16.32 average comments per post\n",
      "12: 12.38 average comments per post\n",
      "02: 11.14 average comments per post\n",
      "10: 10.68 average comments per post\n"
     ]
    }
   ],
   "source": [
    "print('Top 5 Hours for Ask Posts Comments')\n",
    "for avg, hr in sorted_swap[0:5]:\n",
    "    print('{}: {avg:,.2f} average comments per post'. format(dt.datetime.strptime(str(hr),'%H').strftime(\"%H\"), avg = avg))"
   ]
  },
  {
   "cell_type": "markdown",
   "metadata": {},
   "source": [
    "# Conclusions\n",
    "\n",
    "- We have found that Ask Hacker News posts are more popular than Show Hacker News posts\n",
    "- 3PM is the time with the most user interaction, followed by 1PM, 12PM, 2AM, and 10AM (EST)\n",
    "- 9AM is the time with the least number of comments and user interaction\n"
   ]
  }
 ],
 "metadata": {
  "kernelspec": {
   "display_name": "Python 3",
   "language": "python",
   "name": "python3"
  },
  "language_info": {
   "codemirror_mode": {
    "name": "ipython",
    "version": 3
   },
   "file_extension": ".py",
   "mimetype": "text/x-python",
   "name": "python",
   "nbconvert_exporter": "python",
   "pygments_lexer": "ipython3",
   "version": "3.7.4"
  }
 },
 "nbformat": 4,
 "nbformat_minor": 2
}
